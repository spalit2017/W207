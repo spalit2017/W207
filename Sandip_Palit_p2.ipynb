{
 "cells": [
  {
   "cell_type": "markdown",
   "metadata": {},
   "source": [
    "# Project 2: Topic Classification"
   ]
  },
  {
   "cell_type": "markdown",
   "metadata": {},
   "source": [
    "In this project, you'll work with text data from newsgroup postings on a variety of topics. You'll train classifiers to distinguish between the topics based on the text of the posts. Whereas with digit classification, the input is relatively dense: a 28x28 matrix of pixels, many of which are non-zero, here we'll represent each document with a \"bag-of-words\" model. As you'll see, this makes the feature representation quite sparse -- only a few words of the total vocabulary are active in any given document. The bag-of-words assumption here is that the label depends only on the words; their order is not important.\n",
    "\n",
    "The SK-learn documentation on feature extraction will prove useful:\n",
    "http://scikit-learn.org/stable/modules/feature_extraction.html\n",
    "\n",
    "Each problem can be addressed succinctly with the included packages -- please don't add any more. Grading will be based on writing clean, commented code, along with a few short answers.\n",
    "\n",
    "As always, you're welcome to work on the project in groups and discuss ideas on the course wall, but please prepare your own write-up and write your own code."
   ]
  },
  {
   "cell_type": "code",
   "execution_count": 17,
   "metadata": {
    "collapsed": false
   },
   "outputs": [],
   "source": [
    "# This tells matplotlib not to try opening a new window for each plot.\n",
    "%matplotlib inline\n",
    "\n",
    "# General libraries.\n",
    "import re\n",
    "import numpy as np\n",
    "import matplotlib.pyplot as plt\n",
    "\n",
    "# SK-learn libraries for learning.\n",
    "from sklearn.pipeline import Pipeline\n",
    "from sklearn.neighbors import KNeighborsClassifier\n",
    "from sklearn.linear_model import LogisticRegression\n",
    "from sklearn.naive_bayes import BernoulliNB\n",
    "from sklearn.naive_bayes import MultinomialNB\n",
    "from sklearn.grid_search import GridSearchCV\n",
    "\n",
    "# SK-learn libraries for evaluation.\n",
    "from sklearn.metrics import confusion_matrix\n",
    "from sklearn import metrics\n",
    "from sklearn.metrics import classification_report\n",
    "\n",
    "# SK-learn library for importing the newsgroup data.\n",
    "from sklearn.datasets import fetch_20newsgroups\n",
    "\n",
    "# SK-learn libraries for feature extraction from text.\n",
    "from sklearn.feature_extraction.text import *"
   ]
  },
  {
   "cell_type": "markdown",
   "metadata": {},
   "source": [
    "Load the data, stripping out metadata so that we learn classifiers that only use textual features. By default, newsgroups data is split into train and test sets. We further split the test so we have a dev set. Note that we specify 4 categories to use for this project. If you remove the categories argument from the fetch function, you'll get all 20 categories."
   ]
  },
  {
   "cell_type": "code",
   "execution_count": 18,
   "metadata": {
    "collapsed": false
   },
   "outputs": [
    {
     "name": "stdout",
     "output_type": "stream",
     "text": [
      "training label shape: (2034,)\n",
      "test label shape: (677,)\n",
      "dev label shape: (676,)\n",
      "labels names: ['alt.atheism', 'comp.graphics', 'sci.space', 'talk.religion.misc']\n"
     ]
    }
   ],
   "source": [
    "categories = ['alt.atheism', 'talk.religion.misc', 'comp.graphics', 'sci.space']\n",
    "newsgroups_train = fetch_20newsgroups(subset='train',\n",
    "                                      remove=('headers', 'footers', 'quotes'),\n",
    "                                      categories=categories)\n",
    "newsgroups_test = fetch_20newsgroups(subset='test',\n",
    "                                     remove=('headers', 'footers', 'quotes'),\n",
    "                                     categories=categories)\n",
    "\n",
    "num_test = len(newsgroups_test.target)\n",
    "test_data, test_labels = newsgroups_test.data[num_test/2:], newsgroups_test.target[num_test/2:]\n",
    "dev_data, dev_labels = newsgroups_test.data[:num_test/2], newsgroups_test.target[:num_test/2]\n",
    "train_data, train_labels = newsgroups_train.data, newsgroups_train.target\n",
    "\n",
    "print 'training label shape:', train_labels.shape\n",
    "print 'test label shape:', test_labels.shape\n",
    "print 'dev label shape:', dev_labels.shape\n",
    "print 'labels names:', newsgroups_train.target_names"
   ]
  },
  {
   "cell_type": "markdown",
   "metadata": {},
   "source": [
    "(1) For each of the first 5 training examples, print the text of the message along with the label.\n",
    "\n",
    "[2 pts]"
   ]
  },
  {
   "cell_type": "code",
   "execution_count": 19,
   "metadata": {
    "collapsed": false
   },
   "outputs": [
    {
     "name": "stdout",
     "output_type": "stream",
     "text": [
      "\tTHE TRAINING EXAMPLE:\n",
      "\n",
      "Hi,\n",
      "\n",
      "I've noticed that if you only save a model (with all your mapping planes\n",
      "positioned carefully) to a .3DS file that when you reload it after restarting\n",
      "3DS, they are given a default position and orientation.  But if you save\n",
      "to a .PRJ file their positions/orientation are preserved.  Does anyone\n",
      "know why this information is not stored in the .3DS file?  Nothing is\n",
      "explicitly said in the manual about saving texture rules in the .PRJ file. \n",
      "I'd like to be able to read the texture rule information, does anyone have \n",
      "the format for the .PRJ file?\n",
      "\n",
      "Is the .CEL file format available from somewhere?\n",
      "\n",
      "Rych\n",
      "\tIS LABELLED AS \"comp.graphics.\"\n",
      "\n",
      "\tTHE TRAINING EXAMPLE:\n",
      "\n",
      "\n",
      "\n",
      "Seems to be, barring evidence to the contrary, that Koresh was simply\n",
      "another deranged fanatic who thought it neccessary to take a whole bunch of\n",
      "folks with him, children and all, to satisfy his delusional mania. Jim\n",
      "Jones, circa 1993.\n",
      "\n",
      "\n",
      "Nope - fruitcakes like Koresh have been demonstrating such evil corruption\n",
      "for centuries.\n",
      "\tIS LABELLED AS \"talk.religion.misc.\"\n",
      "\n"
     ]
    }
   ],
   "source": [
    "def P1(num_examples=5):\n",
    "    ### STUDENT START ###\n",
    "    # For every example in the training set (up to \"num_examples\")\n",
    "    for i in range(num_examples):\n",
    "        print '\\tTHE TRAINING EXAMPLE:\\n'\n",
    "        # Print the training example\n",
    "        print train_data[i]\n",
    "        # Print the corresponding label\n",
    "            # Its name (\"newsgroups_train.target_names\") rather than its label (a number)\n",
    "        print '\\tIS LABELLED AS \"{0}.\"\\n'.format(newsgroups_train.target_names[train_labels[i]])\n",
    "\n",
    "### STUDENT END ###\n",
    "P1(2)"
   ]
  },
  {
   "cell_type": "markdown",
   "metadata": {},
   "source": [
    "(2) Use CountVectorizer to turn the raw training text into feature vectors. You should use the fit_transform function, which makes 2 passes through the data: first it computes the vocabulary (\"fit\"), second it converts the raw text into feature vectors using the vocabulary (\"transform\").\n",
    "\n",
    "The vectorizer has a lot of options. To get familiar with some of them, write code to answer these questions:\n",
    "\n",
    "a. The output of the transform (also of fit_transform) is a sparse matrix: http://docs.scipy.org/doc/scipy-0.14.0/reference/generated/scipy.sparse.csr_matrix.html. What is the size of the vocabulary? What is the average number of non-zero features per example? What fraction of the entries in the matrix are non-zero? Hint: use \"nnz\" and \"shape\" attributes.\n",
    "\n",
    "b. What are the 0th and last feature strings (in alphabetical order)? Hint: use the vectorizer's get_feature_names function.\n",
    "\n",
    "c. Specify your own vocabulary with 4 words: [\"atheism\", \"graphics\", \"space\", \"religion\"]. Confirm the training vectors are appropriately shaped. Now what's the average number of non-zero features per example?\n",
    "\n",
    "d. Instead of extracting unigram word features, use \"analyzer\" and \"ngram_range\" to extract bigram and trigram character features. What size vocabulary does this yield?\n",
    "\n",
    "e. Use the \"min_df\" argument to prune words that appear in fewer than 10 documents. What size vocabulary does this yield?\n",
    "\n",
    "f. Using the standard CountVectorizer, what fraction of the words in the dev data are missing from the vocabulary? Hint: build a vocabulary for both train and dev and look at the size of the difference.\n",
    "\n",
    "[6 pts]"
   ]
  },
  {
   "cell_type": "code",
   "execution_count": 20,
   "metadata": {
    "collapsed": false
   },
   "outputs": [
    {
     "name": "stdout",
     "output_type": "stream",
     "text": [
      "a. Size of vocabulary: 26879\n",
      "a. Average non-zero features per example: 96\n",
      "a. Fraction of non-zero entries (%): 0.3597827226959026\n",
      "b. First feature string: 00\n",
      "b. Last feature string: zyxel\n",
      "c. Average non-zero features per example with new vocab: 0.26843657817109146\n",
      "d. Bigram and tigram size of vocabulary: 35478\n",
      "e. MinDF size of vocabulary: 3064\n",
      "f. Fraction of the words in the dev data that are missing from the vocabulary: 0.24787640034470024\n"
     ]
    }
   ],
   "source": [
    "def P2():\n",
    "### STUDENT START ###\n",
    "    vect = CountVectorizer()\n",
    "    count = vect.fit_transform(train_data)\n",
    "    vocabTrain = vect.vocabulary_\n",
    "    print \"a. Size of vocabulary: \" + `(count.get_shape()[1])`\n",
    "    print \"a. Average non-zero features per example: \" + `(count.getnnz()/count.get_shape()[0])`\n",
    "    print \"a. Fraction of non-zero entries (%): \" + `100*(count.getnnz()/float(count.get_shape()[0] * count.get_shape()[1]))`\n",
    "    print \"b. First feature string: \" + vect.get_feature_names()[0]\n",
    "    print \"b. Last feature string: \" + vect.get_feature_names()[count.get_shape()[1]-1]\n",
    "    vocab = [\"atheism\", \"graphics\", \"space\", \"religion\"]\n",
    "    modVect = CountVectorizer(vocabulary=vocab)\n",
    "    modCount = modVect.fit_transform(train_data)\n",
    "    print \"c. Average non-zero features per example with new vocab: \" + `(modCount.getnnz()/float(modCount.get_shape()[0]))`\n",
    "    biTriVect = CountVectorizer(ngram_range=(2,3), analyzer=\"char\")\n",
    "    biTriCount = biTriVect.fit_transform(train_data)\n",
    "    print \"d. Bigram and tigram size of vocabulary: \" + `biTriCount.get_shape()[1]`\n",
    "    tenDocPct = 10 / float(count.get_shape()[0])\n",
    "    minDfVect = CountVectorizer(min_df=tenDocPct)\n",
    "    minDfCount = minDfVect.fit_transform(train_data)\n",
    "    print \"e. MinDF size of vocabulary: \" + `minDfCount.get_shape()[1]`\n",
    "    devCount = vect.fit_transform(dev_data)\n",
    "    vocabDev = vect.vocabulary_\n",
    "    missing = 0\n",
    "    for w in vocabDev.keys():\n",
    "        if w not in vocabTrain.keys():            \n",
    "            missing += 1\n",
    "    print \"f. Fraction of the words in the dev data that are missing from the vocabulary: \" + `(missing/float(len(vocabDev)))`\n",
    "### STUDENT END ###\n",
    "P2()"
   ]
  },
  {
   "cell_type": "markdown",
   "metadata": {},
   "source": [
    "(3) Use the default CountVectorizer options and report the f1 score (use metrics.f1_score) for a k nearest neighbors classifier; find the optimal value for k. Also fit a Multinomial Naive Bayes model and find the optimal value for alpha. Finally, fit a logistic regression model and find the optimal value for the regularization strength C using l2 regularization. A few questions:\n",
    "\n",
    "a. Why doesn't nearest neighbors work well for this problem?\n",
    "\n",
    "b. Any ideas why logistic regression doesn't work as well as Naive Bayes?\n",
    "\n",
    "c. Logistic regression estimates a weight vector for each class, which you can access with the coef\\_ attribute. Output the sum of the squared weight values for each class for each setting of the C parameter. Briefly explain the relationship between the sum and the value of C.\n",
    "\n",
    "[4 pts]"
   ]
  },
  {
   "cell_type": "code",
   "execution_count": 21,
   "metadata": {
    "collapsed": false
   },
   "outputs": [
    {
     "name": "stdout",
     "output_type": "stream",
     "text": [
      "k Nearest Neighbors:\n",
      "--------------------\n",
      "The optimal value for k is 96.\n",
      "F1 score for a kNN classifier using the optimal value for k: 0.4336.\n",
      "\n",
      "Multinomial Naive Bayes:\n",
      "------------------------\n",
      "The optimal value for alpha is 0.004.\n",
      "F1 score for a Multinomial NB classifier using the optimal value for alpha: 0.7525.\n",
      "\n",
      "Logistic Regression:\n",
      "--------------------\n",
      "The optimal value for C is 0.18.\n",
      "F1 score for a Logistic Regression classifier using the optimal value for C: 0.6895.\n",
      "\n",
      "|      |       alt.atheism|     comp.graphics|         sci.space|talk.religion.misc|\n",
      "------------------------------------------------------------------------------------\n",
      "|  0.05|           14.0733|           13.6691|           14.6041|           11.8607|\n",
      "|  0.10|           27.1295|           24.6590|           27.4577|           23.0261|\n",
      "|  0.20|           49.7439|           42.7434|           49.3286|           42.6670|\n",
      "|  0.30|           69.2937|           57.8951|           67.8989|           59.7714|\n",
      "|  0.40|           86.7339|           71.1461|           84.2795|           75.0395|\n",
      "|  0.50|          102.5943|           83.1196|           99.0381|           89.0074|\n",
      "|  1.00|          166.8484|          130.8650|          157.9718|          145.7363|\n",
      "|  1.50|          216.5725|          167.5115|          202.9365|          189.7623|\n",
      "|  2.00|          257.5379|          197.8781|          239.9709|          226.5581|\n",
      "|  7.00|          497.9082|          380.4416|          457.9920|          447.8492|\n"
     ]
    },
    {
     "data": {
      "image/png": "[encoded data removed]",
      "text/plain": [
       "<matplotlib.figure.Figure at 0x113eed9d0>"
      ]
     },
     "metadata": {},
     "output_type": "display_data"
    }
   ],
   "source": [
    "def P3():\n",
    "### STUDENT START ###\n",
    "    CV = CountVectorizer()\n",
    "    feature_vectors_train = CV.fit_transform(raw_documents=train_data)\n",
    "    feature_vectors_dev = CV.transform(raw_documents=dev_data)\n",
    "\n",
    "    ######## kNN ########\n",
    "    print 'k Nearest Neighbors:'\n",
    "    print '--------------------'\n",
    "    # Trying values of k using Gridsearch using every integer between 1 and 200 and with steps of 5\n",
    "    param = {'n_neighbors': np.arange(1,200,5).tolist()}\n",
    "    best_param_kNN = GridSearchCV(KNeighborsClassifier(), param, scoring='f1_macro')\n",
    "    best_param_kNN.fit(feature_vectors_train, train_labels)\n",
    "    optimal_k = best_param_kNN.best_params_['n_neighbors']\n",
    "    print 'The optimal value for k is {0}.'.format(optimal_k)\n",
    "    kNN_model = KNeighborsClassifier(n_neighbors=optimal_k)\n",
    "    kNN_model.fit(feature_vectors_train, train_labels)\n",
    "    dev_predicted_labels = kNN_model.predict(feature_vectors_dev)\n",
    "    print 'F1 score for a kNN classifier using the optimal value for k: {0:.4f}.'.\\\n",
    "        format(metrics.f1_score(y_true=dev_labels, y_pred=dev_predicted_labels,\n",
    "                                average='macro'))\n",
    "\n",
    "    ######## MultinomialNB ########\n",
    "    print '\\nMultinomial Naive Bayes:'\n",
    "    print '------------------------'\n",
    "    # Trying with values of alpha up to 1\n",
    "    alpha = np.concatenate([np.arange(0,0.01,0.002),np.arange(0.01,0.1,0.01),\n",
    "                            np.arange(0.1,1.1,0.1)])\n",
    "    # Again, I started using GridSearch using step=0.002 between 0 and 1 (501 possible values)\n",
    "        # After finding out optimal alpha is 0.004, I used different steps to reduce\n",
    "        # computation time\n",
    "    param = {'alpha': list(alpha)}\n",
    "    best_param_NB = GridSearchCV(MultinomialNB(), param, scoring='f1_macro')\n",
    "    best_param_NB.fit(feature_vectors_train, train_labels)\n",
    "    optimal_alpha = best_param_NB.best_params_['alpha']\n",
    "    print 'The optimal value for alpha is {0}.'.format(optimal_alpha)\n",
    "    # best_param_NB.best_score_\n",
    "    NB_model = MultinomialNB(alpha=optimal_alpha)\n",
    "    NB_model.fit(feature_vectors_train, train_labels)\n",
    "    dev_predicted_labels = NB_model.predict(feature_vectors_dev)\n",
    "    print 'F1 score for a Multinomial NB classifier using the optimal value for alpha: ' \\\n",
    "          '{0:.4f}.'.format(metrics.f1_score(y_true=dev_labels, y_pred=dev_predicted_labels,\n",
    "                                             average='macro'))\n",
    "\n",
    "    ######## Logistic Regression ########\n",
    "    print '\\nLogistic Regression:'\n",
    "    print '--------------------'\n",
    "    \n",
    "    inv_regul_str = np.concatenate([np.arange(0.01,0.1,0.01),np.arange(0.1,0.5,0.02),\n",
    "                                    np.arange(0.5,2,0.1),np.arange(2,8,1)])\n",
    "    # Again, I started using GridSearch using step=0.01 between 0 and 2 (200 possible values)\n",
    "        # After finding out optimal C is 0.18, I used different steps to reduce computation\n",
    "        # time\n",
    "    param = {'C': list(inv_regul_str)}\n",
    "    best_param_Logit = GridSearchCV(LogisticRegression(penalty='l2'), param,\n",
    "                                    scoring='f1_macro')\n",
    "    best_param_Logit.fit(feature_vectors_train, train_labels)\n",
    "    optimal_C = best_param_Logit.best_params_['C']\n",
    "    print 'The optimal value for C is {0}.'.format(optimal_C)\n",
    "    Logit_model = LogisticRegression(penalty='l2', C=optimal_C)\n",
    "    Logit_model.fit(feature_vectors_train, train_labels)\n",
    "    dev_predicted_labels = Logit_model.predict(feature_vectors_dev)\n",
    "    print 'F1 score for a Logistic Regression classifier using the optimal value for C: ' \\\n",
    "          '{0:.4f}.'.format(metrics.f1_score(y_true=dev_labels, y_pred=dev_predicted_labels,\n",
    "                                             average='macro'))\n",
    "\n",
    "    # Output the sum of the squared weight values for each class\n",
    "        # for each setting of the C parameter.\n",
    "    squared_sum = np.zeros(4*inv_regul_str.shape[0]).reshape(inv_regul_str.shape[0],4)\n",
    "    for i,c in enumerate(inv_regul_str):\n",
    "        Logit_model = LogisticRegression(penalty='l2', C=c)\n",
    "        Logit_model.fit(feature_vectors_train, train_labels)\n",
    "        squared_sum[i,:] = np.square(Logit_model.coef_).sum(axis=1)\n",
    "    # To make it shorter, just print 10 intermediate values\n",
    "        # (i.e., 10*4 points instead of 50*4; 50 will be plotted later)\n",
    "    squared_sum_short = squared_sum[4::5,:]\n",
    "    inv_regul_str_short = inv_regul_str[4::5]\n",
    "    classes = [c.rjust(18) for c in newsgroups_train.target_names]\n",
    "    print \"\\n|      |{}|{}|{}|{}|\".format(*classes)\n",
    "    print '----------------------------------------------' \\\n",
    "          '--------------------------------------'\n",
    "    table = []\n",
    "    for i in range(10):\n",
    "        table.append([inv_regul_str_short[i], squared_sum_short[i,0], squared_sum_short [i,1],\n",
    "                      squared_sum_short [i,2], squared_sum_short [i,3]])\n",
    "    for i in table:\n",
    "        print \"|{:6.2f}|{:18.4f}|{:18.4f}|{:18.4f}|{:18.4f}|\".format(*i)\n",
    "    squared_sum_mean = squared_sum[:,1:].mean(axis=1)\n",
    "    plt.figure(figsize=(12, 4))\n",
    "    plt.scatter(inv_regul_str, squared_sum_mean)\n",
    "    plt.xlabel(\"C (inverse of the regularization strength)\")\n",
    "    plt.ylabel(\"Average value of the squared weight values\")\n",
    "    plt.ylim([0, squared_sum_mean.max()])\n",
    "    plt.xlim([0, inv_regul_str.max()])\n",
    "### STUDENT END ###\n",
    "P3()"
   ]
  },
  {
   "cell_type": "markdown",
   "metadata": {},
   "source": [
    "ANSWER:"
   ]
  },
  {
   "cell_type": "markdown",
   "metadata": {},
   "source": [
    "(4) Train a logistic regression model. Find the 5 features with the largest weights for each label -- 20 features in total. Create a table with 20 rows and 4 columns that shows the weight for each of these features for each of the labels. Create the table again with bigram features. Any surprising features in this table?\n",
    "\n",
    "[5 pts]"
   ]
  },
  {
   "cell_type": "code",
   "execution_count": 22,
   "metadata": {
    "collapsed": false
   },
   "outputs": [
    {
     "name": "stdout",
     "output_type": "stream",
     "text": [
      "Unigram results:\n",
      "  Size of vocab: 26879\n",
      "  Accuracy: 0.701183431953\n",
      "[u'atheism' u'religion' u'bobby' u'atheists' u'deletion' u'computer' u'3d'\n",
      " u'file' u'image' u'graphics' u'spacecraft' u'launch' u'nasa' u'orbit'\n",
      " u'space' u'order' u'fbi' u'blood' u'christian' u'christians']\n",
      "[[ 0.94 -0.41 -0.45 -0.43]\n",
      " [ 0.95 -0.62 -0.79 -0.06]\n",
      " [ 0.99 -0.22 -0.34 -0.46]\n",
      " [ 1.03 -0.1  -0.32 -0.84]\n",
      " [ 1.12 -0.4  -0.42 -0.4 ]\n",
      " [ 0.14  0.98 -0.68 -0.49]\n",
      " [-0.36  1.12 -0.7  -0.38]\n",
      " [-0.33  1.27 -0.81 -0.63]\n",
      " [-0.58  1.35 -0.83 -0.47]\n",
      " [-0.76  1.94 -1.34 -0.76]\n",
      " [-0.36 -0.39  0.92 -0.38]\n",
      " [-0.47 -0.47  0.94 -0.33]\n",
      " [-0.57 -0.48  1.01 -0.47]\n",
      " [-0.41 -0.67  1.22 -0.63]\n",
      " [-1.26 -1.32  2.16 -1.17]\n",
      " [-0.79 -0.08 -0.15  0.91]\n",
      " [-0.31 -0.27 -0.45  0.91]\n",
      " [-0.53 -0.11 -0.32  1.05]\n",
      " [-0.61 -0.42 -0.27  1.12]\n",
      " [-0.74 -0.41 -0.53  1.15]]\n",
      "\n",
      "\n",
      "Bigram results:\n",
      "  Size of vocab: 194891\n",
      "  Accuracy: 0.627218934911\n",
      "[u'you are' u'look up' u'cheers kent' u'was just' u'claim that'\n",
      " u'out there' u'is there' u'in advance' u'comp graphics' u'looking for'\n",
      " u'sherzer methodology' u'and such' u'sci space' u'the moon' u'the space'\n",
      " u'is strength' u'the fbi' u'compuserve com' u'such lunacy' u'ignorance is']\n",
      "[[ 0.57 -0.32 -0.58  0.  ]\n",
      " [ 0.63 -0.24 -0.2  -0.17]\n",
      " [ 0.65 -0.88 -0.82  0.6 ]\n",
      " [ 0.68 -0.19 -0.2  -0.3 ]\n",
      " [ 0.77 -0.26 -0.35 -0.2 ]\n",
      " [-0.32  0.9  -0.58 -0.33]\n",
      " [-0.43  0.91 -0.57 -0.34]\n",
      " [-0.54  0.97 -0.53 -0.51]\n",
      " [-0.38  1.04 -0.47 -0.4 ]\n",
      " [-0.76  1.32 -0.61 -0.7 ]\n",
      " [-0.16 -0.23  0.68 -0.16]\n",
      " [-0.24 -0.4   0.69 -0.26]\n",
      " [-0.32 -0.39  0.74 -0.27]\n",
      " [-0.4  -0.58  0.95 -0.24]\n",
      " [-0.31 -0.65  1.03 -0.32]\n",
      " [-0.18 -0.22 -0.2   0.65]\n",
      " [-0.17 -0.26 -0.36  0.65]\n",
      " [-0.13 -0.21 -0.2   0.7 ]\n",
      " [-0.15 -0.22 -0.19  0.71]\n",
      " [-0.23 -0.25 -0.21  0.75]]\n",
      "\n",
      "\n"
     ]
    }
   ],
   "source": [
    "def P4():\n",
    "### STUDENT START ###\n",
    "    ngram_labels = [\"Unigram\", \"Bigram\"]\n",
    "    for n in range(2):\n",
    "        # Use either unigram or bigram\n",
    "        vectorizer = CountVectorizer(ngram_range=(n+1, n+1))\n",
    "        doc_matrix_train = vectorizer.fit_transform(train_data)\n",
    "        doc_matrix_dev = vectorizer.transform(dev_data)\n",
    "        # Fit logistic regression model\n",
    "        lr_model = LogisticRegression()\n",
    "        lr_model.fit(doc_matrix_train, train_labels)\n",
    "        # Determine 5 features with biggest weights for each of the 4 classes\n",
    "        weights_sorted = np.argsort(lr_model.coef_, axis=1)\n",
    "        # Obtain index of maximum weights for each class, then flatten to create array of 20 features\n",
    "        weights_maxindex = weights_sorted[:, -5:].flatten()    \n",
    "        # Create table\n",
    "        full_vocab = np.array(vectorizer.get_feature_names())\n",
    "        print (ngram_labels[n] + \" results:\")\n",
    "        print (\"  Size of vocab: {}\".format(len(full_vocab)))\n",
    "        print (\"  Accuracy: {}\".format(lr_model.score(doc_matrix_dev, dev_labels)))\n",
    "        print (full_vocab[weights_maxindex])\n",
    "        print (np.transpose(np.round(lr_model.coef_[:, weights_maxindex],2)))\n",
    "        print (\"\\n\")\n",
    "    \n",
    "### STUDENT END ###\n",
    "P4()\n"
   ]
  },
  {
   "cell_type": "markdown",
   "metadata": {},
   "source": [
    "ANSWER:"
   ]
  },
  {
   "cell_type": "markdown",
   "metadata": {},
   "source": [
    "(5) Try to improve the logistic regression classifier by passing a custom preprocessor to CountVectorizer. The preprocessing function runs on the raw text, before it is split into words by the tokenizer. Your preprocessor should try to normalize the input in various ways to improve generalization. For example, try lowercasing everything, replacing sequences of numbers with a single token, removing various other non-letter characters, and shortening long words. If you're not already familiar with regular expressions for manipulating strings, see https://docs.python.org/2/library/re.html, and re.sub() in particular. With your new preprocessor, how much did you reduce the size of the dictionary?\n",
    "\n",
    "For reference, I was able to improve dev F1 by 2 points.\n",
    "\n",
    "[4 pts]"
   ]
  },
  {
   "cell_type": "code",
   "execution_count": 23,
   "metadata": {
    "collapsed": false
   },
   "outputs": [
    {
     "name": "stdout",
     "output_type": "stream",
     "text": [
      "empty_preprocessor\n",
      "  The size of the vocabulary is 26879.\n",
      "  F1 score: 0.681318340101\n",
      "better_preprocessor\n",
      "  The size of the vocabulary is 22090.\n",
      "  F1 score: 0.70382337505\n",
      "The better preprocessor reduced the vocabulary size by 4789, or 17.82%.\n"
     ]
    }
   ],
   "source": [
    "def empty_preprocessor(s):\n",
    "    return s\n",
    "\n",
    "def better_preprocessor(s):\n",
    "### STUDENT START ###\n",
    "# String operations by preproessor\n",
    "    # Turn into all lowercases first\n",
    "    s = s.lower()\n",
    "    # Remove non-letter characters\n",
    "    s = re.sub(r\"[_%#:+]\", r\"\", s)\n",
    "    # Shortening long words: stem \"s\", \"ed\", and \"y\"\n",
    "    s = re.sub(r\"s\\b|ed\\b|y\\b\", r\"\", s)\n",
    "    # Replace numbers 4 digits or longer with single token 99\"\n",
    "    s = re.sub(r\"[0-9]{4,}\", \"99\", s)\n",
    "    return s\n",
    "### STUDENT END ###\n",
    "\n",
    "def P5():\n",
    "### STUDENT START ###\n",
    "    vocab_size = []\n",
    "    # Iterate through the an empty preprocessor and the above better preprocessor\n",
    "    for preprocessor in [empty_preprocessor, better_preprocessor]:    \n",
    "        # Process raw strings in both train data and the dev data\n",
    "        train_data_parsed = [preprocessor(post) for post in train_data]\n",
    "        dev_data_parsed = [preprocessor(post) for post in dev_data]\n",
    "        # Vectorize raw strings using default CountVectorizer options\n",
    "        vectorizer = CountVectorizer()\n",
    "        doc_matrix_train = vectorizer.fit_transform(train_data_parsed)\n",
    "        doc_matrix_dev = vectorizer.transform(dev_data_parsed)\n",
    "        vocab_size.append(len(vectorizer.get_feature_names()))\n",
    "        print (preprocessor.__name__)\n",
    "        print (\"  The size of the vocabulary is {}.\".format(len(vectorizer.get_feature_names())))\n",
    "        # Fit logistic regression model and obtain F1 score\n",
    "        lr_model = LogisticRegression()\n",
    "        lr_model.fit(doc_matrix_train, train_labels)\n",
    "        print (\"  F1 score: {}\".format(metrics.f1_score(dev_labels, lr_model.predict(doc_matrix_dev), average=\"macro\")))\n",
    "    print (\"The better preprocessor reduced the vocabulary size by {}, or {:.2f}%.\"\n",
    "           .format(vocab_size[0]-vocab_size[1], 100.*(vocab_size[0]-vocab_size[1])/vocab_size[0]))\n",
    "    \n",
    "### STUDENT END ###\n",
    "P5()"
   ]
  },
  {
   "cell_type": "markdown",
   "metadata": {},
   "source": [
    "(6) The idea of regularization is to avoid learning very large weights (which are likely to fit the training data, but not generalize well) by adding a penalty to the total size of the learned weights. That is, logistic regression seeks the set of weights that minimizes errors in the training data AND has a small size. The default regularization, L2, computes this size as the sum of the squared weights (see P3, above). L1 regularization computes this size as the sum of the absolute values of the weights. The result is that whereas L2 regularization makes all the weights relatively small, L1 regularization drives lots of the weights to 0, effectively removing unimportant features.\n",
    "\n",
    "Train a logistic regression model using a \"l1\" penalty. Output the number of learned weights that are not equal to zero. How does this compare to the number of non-zero weights you get with \"l2\"? Now, reduce the size of the vocabulary by keeping only those features that have at least one non-zero weight and retrain a model using \"l2\".\n",
    "\n",
    "Make a plot showing accuracy of the re-trained model vs. the vocabulary size you get when pruning unused features by adjusting the C parameter.\n",
    "\n",
    "Note: The gradient descent code that trains the logistic regression model sometimes has trouble converging with extreme settings of the C parameter. Relax the convergence criteria by setting tol=.01 (the default is .0001).\n",
    "\n",
    "[4 pts]"
   ]
  },
  {
   "cell_type": "code",
   "execution_count": 24,
   "metadata": {
    "collapsed": false
   },
   "outputs": [
    {
     "name": "stdout",
     "output_type": "stream",
     "text": [
      "The number of nonzero weights with L1 regularization is 1609.\n",
      "  Accuracy is 0.687869822485.\n",
      "The number of nonzero weights with L2 regularization is 107516.\n",
      "  Accuracy is 0.701183431953.\n",
      "The number of nonzero weights with L2 regularization and reduced vocab is 107516.\n",
      "  It is much smaller after features are pruned by the L1 model.\n",
      "  Accuracy is 0.701183431953.\n"
     ]
    },
    {
     "data": {
      "image/png": "[encoded data removed]",
      "text/plain": [
       "<matplotlib.figure.Figure at 0x11418cc50>"
      ]
     },
     "metadata": {},
     "output_type": "display_data"
    }
   ],
   "source": [
    "def P6():\n",
    "# Keep this random seed here to make comparison easier.\n",
    "    np.random.seed(0)\n",
    "### STUDENT START ###    \n",
    "# Use default CountVectorizer options\n",
    "    vectorizer = CountVectorizer()\n",
    "    doc_matrix_train = vectorizer.fit_transform(train_data)\n",
    "    doc_matrix_dev = vectorizer.transform(dev_data)\n",
    "    \n",
    "# Logistic regression using L1 penalty with the default value of C (1.0)\n",
    "    model = LogisticRegression(penalty='l1', C=1.0)\n",
    "    model.fit(doc_matrix_train, train_labels)\n",
    "    print (\"The number of nonzero weights with L1 regularization is {}.\".format(np.count_nonzero(model.coef_)))\n",
    "    print (\"  Accuracy is {}.\".format(model.score(doc_matrix_dev, dev_labels)))\n",
    "    \n",
    "# Logistic regression using L2 penalty with the default value of C (1.0)\n",
    "    model = LogisticRegression(penalty='l2', C=1.0)\n",
    "    model.fit(doc_matrix_train, train_labels)\n",
    "    print (\"The number of nonzero weights with L2 regularization is {}.\".format(np.count_nonzero(model.coef_)))\n",
    "    print (\"  Accuracy is {}.\".format(model.score(doc_matrix_dev, dev_labels)))\n",
    "\n",
    "    \n",
    "# Retrain using features with nonzero weights\n",
    "   \n",
    "    nonzero_features = np.unique(np.nonzero(model.coef_)[1])\n",
    "    # Extract vocab with nonzero features\n",
    "    nonzero_vocab = np.array(vectorizer.get_feature_names())[nonzero_features]\n",
    "    \n",
    "# Vectorize with new vocab\n",
    "    vectorizer = CountVectorizer(vocabulary=nonzero_vocab)\n",
    "    doc_matrix_train = vectorizer.fit_transform(train_data)\n",
    "    doc_matrix_dev = vectorizer.transform(dev_data)\n",
    "\n",
    "# Fit L2 model with the reduced set of features\n",
    "    model = LogisticRegression(penalty='l2', C=1.0)\n",
    "    model.fit(doc_matrix_train, train_labels)\n",
    "    print (\"The number of nonzero weights with L2 regularization and reduced vocab is {}.\".format(np.count_nonzero(model.coef_)))\n",
    "    print (\"  It is much smaller after features are pruned by the L1 model.\")\n",
    "    print (\"  Accuracy is {}.\".format(model.score(doc_matrix_dev, dev_labels)))\n",
    "    \n",
    "# Initialize C's and empty arrays for vocab_size and accuracy\n",
    "    Cs = [0.01, 0.02, 0.05, 0.1, 0.25, 0.5, 1, 3, 5, 10]\n",
    "    vocab_size = []\n",
    "    accuracy = []\n",
    "    \n",
    "# Iterate through different C's\n",
    "    for val in Cs:\n",
    "    # First vectorize with standard vocab\n",
    "        vectorizer = CountVectorizer()\n",
    "        doc_matrix_train = vectorizer.fit_transform(train_data)\n",
    "    # Fit a L1 model with C value and tol=0.01 to ensure convergence. Lower C value prunes more features.\n",
    "        model = LogisticRegression(penalty='l1', C=val, tol=0.01)\n",
    "        model.fit(doc_matrix_train, train_labels)\n",
    "    # Obtain features with nonzero weights\n",
    "        nonzero_features = np.unique(np.nonzero(model.coef_)[1])\n",
    "        nonzero_vocab = np.array(vectorizer.get_feature_names())[nonzero_features]\n",
    "        vocab_size.append(len(nonzero_vocab))\n",
    "    # Vectorize with new vocab\n",
    "        vectorizer = CountVectorizer(vocabulary=nonzero_vocab)\n",
    "        doc_matrix_train = vectorizer.fit_transform(train_data)\n",
    "        doc_matrix_dev = vectorizer.transform(dev_data)\n",
    "    # Fit L2 model with default C=1.0\n",
    "        model = LogisticRegression(penalty='l2', C=1.0, tol=0.01)\n",
    "        model.fit(doc_matrix_train, train_labels)\n",
    "        accuracy.append(model.score(doc_matrix_dev, dev_labels))\n",
    "    \n",
    "# Create plot\n",
    "    plt.plot(vocab_size, accuracy, 'bo')\n",
    "    plt.xlabel(\"Vocabulary Size (controlled by C parameter in L1 regularization)\")\n",
    "    plt.ylabel(\"Accuracy\")\n",
    "    plt.title(\"Accuracy of Logistic Regression with L2 Regularization as a function of Vocabulary Size\")\n",
    "    \n",
    "    ### STUDENT END ###\n",
    "    \n",
    "P6()"
   ]
  },
  {
   "cell_type": "markdown",
   "metadata": {},
   "source": [
    "(7) Use the TfidfVectorizer -- how is this different from the CountVectorizer? Train a logistic regression model with C=100.\n",
    "\n",
    "Make predictions on the dev data and show the top 3 documents where the ratio R is largest, where R is:\n",
    "\n",
    "maximum predicted probability / predicted probability of the correct label\n",
    "\n",
    "What kinds of mistakes is the model making? Suggest a way to address one particular issue that you see.\n",
    "\n",
    "[4 pts]"
   ]
  },
  {
   "cell_type": "code",
   "execution_count": 28,
   "metadata": {
    "collapsed": false
   },
   "outputs": [
    {
     "name": "stdout",
     "output_type": "stream",
     "text": [
      "R ratio: 287.17959466\n",
      "Vector of predicted probabilities: [ 0.0024217   0.0200709   0.28204488  0.69546252]\n",
      "Correct category: 0\n",
      "Correct category name: alt.atheism\n",
      "Document below:\n",
      "\n",
      "The 24 children were, of course, killed by a lone gunman in a second story\n",
      "window, who fired eight bullets in the space of two seconds...\n",
      "\n",
      "\n",
      "R ratio: 325.003462637\n",
      "Vector of predicted probabilities: [ 0.00291046  0.97974632  0.01432864  0.00301457]\n",
      "Correct category: 3\n",
      "Correct category name: talk.religion.misc\n",
      "Document below:\n",
      "Can anyone provide me a ftp site where I can obtain a online version\n",
      "of the Book of Mormon. Please email the internet address if possible.\n",
      "\n",
      "R ratio: 929.356005872\n",
      "Vector of predicted probabilities: [ 0.00196563  0.99371994  0.00324517  0.00106926]\n",
      "Correct category: 3\n",
      "Correct category name: talk.religion.misc\n",
      "Document below:\n",
      "I am pleased to announce that a *revised version* of _The Easy-to-Read Book\n",
      "of Mormon_ (former title: _Mormon's Book_) by Lynn Matthews Anderson is now\n",
      "available through anonymous ftp (see information below). In addition to the\n",
      "change in title, the revised ETR BOM has been shortened by several pages\n",
      "(eliminating many extraneous \"that's\" and \"of's\"), and many (minor) errors\n",
      "have been corrected. This release includes a simplified Joseph Smith Story,\n",
      "testimonies of the three and eight witnesses, and a \"Words-to-Know\"\n",
      "glossary.\n",
      "\n",
      "As with the previous announcement, readers are reminded that this is a\n",
      "not-for-profit endeavor. This is a copyrighted work, but people are welcome\n",
      "to make *verbatim* copies for personal use. People can recuperate the\n",
      "actual costs of printing (paper, copy center charges), but may not charge\n",
      "anything for their time in making copies, or in any way realize a profit\n",
      "from the use of this book. See the permissions notice in the book itself\n",
      "for the precise terms.\n",
      "\n",
      "Negotiations are currently underway with a Mormon publisher vis-a-vis the\n",
      "printing and distribution of bound books. (Sorry, I'm out of the wire-bound\n",
      "\"first editions.\") I will make another announcement about the availability\n",
      "of printed copies once everything has been worked out.\n",
      "\n",
      "FTP information: connect via anonymous ftp to carnot.itc.cmu.edu, then \"cd\n",
      "pub\" (you won't see anything at all until you do).\n",
      "\n",
      "\"The Easy-to-Read Book of Mormon\" is currently available in postscript and\n",
      "RTF (rich text format). (ASCII, LaTeX, and other versions can be made\n",
      "available; contact dba@andrew.cmu.edu for details.) You should be able to\n",
      "print the postscript file on any postscript printer (such as an Apple\n",
      "Laserwriter); let dba know if you have any difficulties. (The postscript in\n",
      "the last release had problems on some printers; this time it should work\n",
      "better.) RTF is a standard document interchange format that can be read in\n",
      "by a number of word processors, including Microsoft Word for both the\n",
      "Macintosh and Windows. If you don't have a postscript printer, you may be\n",
      "able to use the RTF file to print out a copy of the book.\n",
      "\n",
      "-r--r--r--  1 dba                   1984742 Apr 27 13:12 etrbom.ps\n",
      "-r--r--r--  1 dba                   1209071 Apr 27 13:13 etrbom.rtf\n",
      "\n",
      "For more information about how this project came about, please refer to my\n",
      "article in the current issue of _Sunstone_, entitled \"Delighting in\n",
      "Plainness: Issues Surrounding a Simple Modern English Book of Mormon.\"\n",
      "\n",
      "Send all inquiries and comments to:\n",
      "\n",
      "    Lynn Matthews Anderson\n",
      "    5806 Hampton Street\n",
      "    Pittsburgh, PA 15206\n",
      "\n"
     ]
    }
   ],
   "source": [
    "def P7():\n",
    "### STUDENT START ###\n",
    "# Vectorize with TFIDF vectorizer\n",
    "    vectorizer = TfidfVectorizer()\n",
    "    doc_matrix_train = vectorizer.fit_transform(train_data)\n",
    "    doc_matrix_dev = vectorizer.transform(dev_data)\n",
    "# Logistic regression\n",
    "    model = LogisticRegression(C=100)\n",
    "    model.fit(doc_matrix_train, train_labels)\n",
    "    probs = model.predict_proba(doc_matrix_dev)\n",
    "# Calculate R ratio\n",
    "    R_ratio = []\n",
    "    # Iterate through each dev example\n",
    "    for index, example in enumerate(probs):\n",
    "        prob_max = np.amax(example)\n",
    "        prob_correct = example[dev_labels[index]]\n",
    "        R_ratio.append(prob_max / prob_correct)\n",
    "# Print top 3 documents with largest R ratios\n",
    "    R_ratio = np.array(R_ratio)\n",
    "    # Sort R ratios and find the largest 3\n",
    "    top_3_R = np.argsort(R_ratio)[-3:]\n",
    "    for index in top_3_R:\n",
    "        print (\"R ratio: {}\".format(R_ratio[index]))\n",
    "        print (\"Vector of predicted probabilities: {}\".format(probs[index]))\n",
    "        print (\"Correct category: {}\".format(dev_labels[index]))\n",
    "        print (\"Correct category name: {}\".format(newsgroups_train.target_names[dev_labels[index]]))\n",
    "        print (\"Document below:\")\n",
    "        print (dev_data[index] + \"\\n\")\n",
    "        \n",
    "    \n",
    "    \n",
    "## STUDENT END ###\n",
    "P7()\n",
    "\n"
   ]
  },
  {
   "cell_type": "markdown",
   "metadata": {},
   "source": [
    "ANSWER:"
   ]
  },
  {
   "cell_type": "code",
   "execution_count": 30,
   "metadata": {
    "collapsed": true
   },
   "outputs": [],
   "source": [
    "#CountVectorizer converts the document into a matrix of counts while the TfidfVectorizer converts it into a matrix \n",
    "#of tfidf values. So a word that appears many times in a certain document would get a high count in CountVectorizer.But \n",
    "#tfidf puts a lower weight on the commonly occuring words such as \"the\", \"an\",etc as they are not as predictive of the \n",
    "#document's class.\n",
    "\n",
    "# From the above 3 examples with the largest R ratios (i.e. where the model predictions were way off), we can see that religious\n",
    "# posts from talk.religion.misc are mischaracterized as comp.graphics. In both cases, the posts talked about the Book \n",
    "# of Mormon, but also mentioned \"ftp\", \"online\", and \"internet\". These terms combined likely have stronger weights than\n",
    "# the term \"Mormon\"."
   ]
  },
  {
   "cell_type": "markdown",
   "metadata": {},
   "source": [
    "(8) EXTRA CREDIT\n",
    "\n",
    "Try implementing one of your ideas based on your error analysis. Use logistic regression as your underlying model.\n",
    "\n",
    "- [1 pt] for a reasonable attempt\n",
    "- [2 pts] for improved performance"
   ]
  }
 ],
 "metadata": {
  "kernelspec": {
   "display_name": "Python 2",
   "language": "python",
   "name": "python2"
  },
  "language_info": {
   "codemirror_mode": {
    "name": "ipython",
    "version": 2
   },
   "file_extension": ".py",
   "mimetype": "text/x-python",
   "name": "python",
   "nbconvert_exporter": "python",
   "pygments_lexer": "ipython2",
   "version": "2.7.11"
  }
 },
 "nbformat": 4,
 "nbformat_minor": 0
}
